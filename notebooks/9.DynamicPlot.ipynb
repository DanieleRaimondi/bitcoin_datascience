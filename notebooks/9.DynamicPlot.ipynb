{
 "cells": [
  {
   "cell_type": "code",
   "execution_count": null,
   "metadata": {
    "execution": {
     "iopub.execute_input": "2024-10-09T10:10:30.278297Z",
     "iopub.status.busy": "2024-10-09T10:10:30.278169Z",
     "iopub.status.idle": "2024-10-09T10:10:31.951682Z",
     "shell.execute_reply": "2024-10-09T10:10:31.951280Z"
    }
   },
   "outputs": [],
   "source": [
    "import sys\n",
    "sys.path.append(\"/Users/danieleraimondi/bitcoin_datascience/functions\")\n",
    "\n",
    "from functions_DynamicPlot import (\n",
    "    load_data,\n",
    "    create_bitcoin_price_animation,\n",
    "    create_bitcoin_price_gif,\n",
    "    create_fixed_bitcoin_chart,\n",
    ")\n",
    "df = load_data()"
   ]
  },
  {
   "cell_type": "markdown",
   "metadata": {},
   "source": [
    "# **Bitcoin Price Dynamic Visualization**\n",
    "\n",
    "\n",
    "The main objective of these functions is to create dynamic visualizations of Bitcoin prices, initially leaving the axes free to allow for intuitive data exploration. Subsequently, fixed charts are generated. Among the dynamic visualizations, GIF animations are also produced, which are useful for quick presentations and sharing.\n",
    "\n",
    "Additionally, users can apply logarithmic scales to both price and time axes, providing a clearer view of trends, especially over extended periods.\n",
    "\n",
    "---\n",
    "\n",
    "## Included Functions\n",
    "\n",
    "1. **`create_bitcoin_price_animation`**: Generates an animation of Bitcoin prices over time, allowing interactions such as play/pause and scale changes.\n",
    "\n",
    "2. **`create_bitcoin_price_gif`**: Creates an animated GIF of Bitcoin prices, useful for quick presentations and sharing.\n",
    "\n",
    "3. **`create_fixed_bitcoin_chart`**: Creates a static chart of Bitcoin prices, ideal for detailed analysis without animations.\n",
    "\n",
    "---\n"
   ]
  },
  {
   "cell_type": "markdown",
   "metadata": {},
   "source": [
    "# Dynamic axes"
   ]
  },
  {
   "cell_type": "code",
   "execution_count": null,
   "metadata": {
    "execution": {
     "iopub.execute_input": "2024-10-09T10:10:31.953922Z",
     "iopub.status.busy": "2024-10-09T10:10:31.953759Z",
     "iopub.status.idle": "2024-10-09T10:10:37.770138Z",
     "shell.execute_reply": "2024-10-09T10:10:37.769664Z"
    }
   },
   "outputs": [],
   "source": [
    "create_bitcoin_price_animation(df, sampling_interval=30) # One data point every 30 days"
   ]
  },
  {
   "cell_type": "markdown",
   "metadata": {},
   "source": [
    "# GIF Generation"
   ]
  },
  {
   "cell_type": "code",
   "execution_count": null,
   "metadata": {
    "execution": {
     "iopub.execute_input": "2024-10-09T10:10:38.114711Z",
     "iopub.status.busy": "2024-10-09T10:10:38.114541Z",
     "iopub.status.idle": "2024-10-09T10:28:26.301372Z",
     "shell.execute_reply": "2024-10-09T10:28:26.301042Z"
    }
   },
   "outputs": [],
   "source": [
    "create_bitcoin_price_gif(df, \"linear\", sampling_interval=30, duration=75) # One data point every 30 days, each frame lasts 75 milliseconds\n",
    "create_bitcoin_price_gif(df, \"log\", sampling_interval=30, duration=75)"
   ]
  },
  {
   "cell_type": "markdown",
   "metadata": {},
   "source": [
    "# Fixed axes"
   ]
  },
  {
   "cell_type": "code",
   "execution_count": null,
   "metadata": {
    "execution": {
     "iopub.execute_input": "2024-10-09T10:28:26.304617Z",
     "iopub.status.busy": "2024-10-09T10:28:26.304489Z",
     "iopub.status.idle": "2024-10-09T10:28:27.028114Z",
     "shell.execute_reply": "2024-10-09T10:28:27.027764Z"
    }
   },
   "outputs": [],
   "source": [
    "create_fixed_bitcoin_chart(df)"
   ]
  }
 ],
 "metadata": {
  "kernelspec": {
   "display_name": "Python 3",
   "language": "python",
   "name": "python3"
  },
  "language_info": {
   "codemirror_mode": {
    "name": "ipython",
    "version": 3
   },
   "file_extension": ".py",
   "mimetype": "text/x-python",
   "name": "python",
   "nbconvert_exporter": "python",
   "pygments_lexer": "ipython3",
   "version": "3.9.16"
  }
 },
 "nbformat": 4,
 "nbformat_minor": 2
}

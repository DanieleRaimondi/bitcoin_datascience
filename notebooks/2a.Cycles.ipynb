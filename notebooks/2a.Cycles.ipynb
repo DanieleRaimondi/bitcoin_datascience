{
 "cells": [
  {
   "cell_type": "markdown",
   "metadata": {},
   "source": [
    "# **Bitcoin Cycles**\n",
    "\n",
    "* * *\n",
    "\n",
    "This notebook conducts a detailed exploration of Bitcoin price cycles, focusing on identifying patterns related to top/bottoms phases and halving events. \n",
    "\n",
    "Bitcoin halving, a significant event that reduces the Bitcoin mining reward by half approximately every four years, is often associated with fluctuations in Bitcoin's price. This analysis aims to determine whether there is a cyclical pattern in Bitcoin prices that correlates with these halving events.\n",
    "\n",
    "### Introduction\n",
    "\n",
    "The behavior of Bitcoin’s price showcases cyclical trends driven by market dynamics, investor sentiment, and pivotal events such as halvings. These halvings, predictable in their occurrence, theoretically influence supply and demand dynamics, potentially leading to significant price cycles. By examining the synchronization between Bitcoin's price cycles and halving events, this analysis seeks to uncover recurring patterns that could inform investment strategies and market predictions.\n",
    "\n",
    "### Notebook Structure\n",
    "\n",
    "The notebook is organized into several sections to facilitate a structured analysis:\n",
    "\n",
    "1.  **Importing Libraries:** Set up the environment by importing essential Python libraries for data processing and visualization.\n",
    "2.  **Function Definitions:** Define helper functions to aid in data processing, visualization, and annotating significant events.\n",
    "3.  **Data Preparation:** Load and preprocess Bitcoin price data to align with the analysis requirements.\n",
    "4.  **Cycle Visualization:** Graphically represent the Bitcoin price cycles, highlighting key phases and aligning them with halving events.\n",
    "5.  **Conclusion:** Draw conclusions from the visual and statistical analysis, offering insights into the cyclical nature of Bitcoin prices."
   ]
  },
  {
   "cell_type": "code",
   "execution_count": null,
   "metadata": {
    "execution": {
     "iopub.execute_input": "2025-04-01T12:36:15.749872Z",
     "iopub.status.busy": "2025-04-01T12:36:15.749708Z",
     "iopub.status.idle": "2025-04-01T12:36:17.687589Z",
     "shell.execute_reply": "2025-04-01T12:36:17.687040Z"
    }
   },
   "outputs": [],
   "source": [
    "import pandas as pd\n",
    "import sys\n",
    "sys.path.append(\"/Users/danieleraimondi/bitcoin_datascience/functions\")\n",
    "from functions_cycles import plot_bitcoin_cycles, manipulation\n",
    "from fetch_data import fetch_data\n",
    "\n",
    "btc_data = fetch_data(\"btc\")"
   ]
  },
  {
   "cell_type": "markdown",
   "metadata": {},
   "source": [
    "# Data Manipulation\n",
    "---------\n",
    "\n",
    "\n",
    "### Defining Bitcoin Event Dates\n",
    "\n",
    "To analyze the cyclical nature of Bitcoin prices effectively, I begin by marking out the dates of significant events, including halvings and notable peaks and bottoms in past price cycles:\n",
    "\n",
    "*   **Halving Dates:**\n",
    "    \n",
    "    *   November 28, 2012\n",
    "    *   July 9, 2016\n",
    "    *   May 11, 2020\n",
    "    *   April 19, 2024\n",
    "*   **Peak Price Dates:**\n",
    "    \n",
    "    *   November 30, 2013\n",
    "    *   December 17, 2017\n",
    "    *   November 10, 2021\n",
    "*   **Bottom Price Dates:**\n",
    "    \n",
    "    *   January 14, 2015\n",
    "    *   December 15, 2018\n",
    "    *   December 12, 2022\n",
    "\n",
    "These dates represent critical milestones in the Bitcoin market, with halvings significantly influencing the supply of new bitcoins, potentially affecting their price.\n",
    "\n",
    "### Output from Data Manipulation\n",
    "\n",
    "The manipulation function is designed to process Bitcoin price data to extract and calculate various cycle-related parameters. The output includes:\n",
    "\n",
    "*   `cycle_dates`: A series of datetime objects outlining the analyzed time frame.\n",
    "*   `cycle_wave`: A numerical array indicating the cyclical pattern in the data.\n",
    "*   `next_peak_prediction_lower`: The predicted lower bound date for the next price peak.\n",
    "*   `next_peak_prediction_upper`: The predicted upper bound date for the next price peak.\n",
    "*   `next_peak_prediction`: The central predicted date for the next peak.\n",
    "*   `sin_derivative`: A numerical array showing the derivative of the cyclical wave, useful for identifying trend changes.\n",
    "*   `zero_crossings`: Indices where the cycle wave crosses zero, indicating potential trend reversals.\n",
    "*   `current_cycle_percentage`: The current phase of the cycle as a percentage, based on the most recent price data.\n",
    "*   `sin_maxima`: Indices where the cycle reaches local maxima, typically aligning with peak prices.\n",
    "*   `sin_minima`: Indices where the cycle reaches local minima, often corresponding to price bottoms.\n",
    "\n",
    "These parameters are crucial for the subsequent analysis and visualization sections, aiding in the understanding of Bitcoin's price dynamics in relation to its cyclical events."
   ]
  },
  {
   "cell_type": "code",
   "execution_count": null,
   "metadata": {
    "execution": {
     "iopub.execute_input": "2025-04-01T12:36:17.690606Z",
     "iopub.status.busy": "2025-04-01T12:36:17.690410Z",
     "iopub.status.idle": "2025-04-01T12:36:17.697107Z",
     "shell.execute_reply": "2025-04-01T12:36:17.696638Z"
    }
   },
   "outputs": [],
   "source": [
    "halving_dates = pd.to_datetime([\"2012-11-28\", \"2016-07-09\", \"2020-05-11\", \"2024-04-19\"])\n",
    "tops_dates = pd.to_datetime([\"2013-11-30\", \"2017-12-17\", \"2021-11-10\"])\n",
    "bottoms_dates = pd.to_datetime([\"2015-01-14\", \"2018-12-15\", \"2022-11-21\"])\n",
    "\n",
    "cycle_dates,cycle_wave,next_peak_prediction_lower,next_peak_prediction_upper,next_peak_prediction,sin_derivative,zero_crossings,current,sin_maxima,sin_minima, = manipulation(btc_data, tops_dates)"
   ]
  },
  {
   "cell_type": "markdown",
   "metadata": {},
   "source": [
    "# Plot Bitcoin Cycles\n",
    "----------------\n",
    "\n",
    "This section focuses on graphically representing Bitcoin price cycles to identify and understand the cyclical patterns and key phases within the market. The visualization includes several components to enhance clarity and provide a comprehensive analysis:\n",
    "\n",
    "### Plot Components\n",
    "\n",
    "*   **Bitcoin Price Data:** The primary plot displays Bitcoin prices on a logarithmic scale, which is essential for viewing exponential price movements clearly over time.\n",
    "    \n",
    "*   **Annotations for Key Events:** The plot is annotated to highlight significant events including halvings, price tops, and bottoms. These dates are marked to show their impact and correlation with the price cycles.\n",
    "    \n",
    "*   **Cyclical Pattern Overlay:** A sinusoidal curve is overlaid on the price data to depict the underlying cyclical pattern. This curve helps illustrate the rhythmic nature of the price movements and is essential for identifying cyclical trends.\n",
    "    \n",
    "*   **Cycle Phase Highlighting:** Different phases of the cycle, such as maxima, minima, and zero crossings, are clearly annotated. This includes visual cues like points or lines at these critical junctures, providing insights into potential turning points in the market.\n",
    "    \n",
    "*   **Phases Fill:** The areas between different phases are shaded to differentiate between the rising and falling stages of the cycle, enhancing the visual understanding of market dynamics.\n",
    "    \n"
   ]
  },
  {
   "cell_type": "code",
   "execution_count": null,
   "metadata": {
    "execution": {
     "iopub.execute_input": "2025-04-01T12:36:17.699492Z",
     "iopub.status.busy": "2025-04-01T12:36:17.699312Z",
     "iopub.status.idle": "2025-04-01T12:36:19.297570Z",
     "shell.execute_reply": "2025-04-01T12:36:19.297181Z"
    }
   },
   "outputs": [],
   "source": [
    "plot_bitcoin_cycles(\n",
    "    btc_data,\n",
    "    halving_dates,\n",
    "    tops_dates,\n",
    "    bottoms_dates,\n",
    "    next_peak_prediction,\n",
    "    next_peak_prediction_lower,\n",
    "    next_peak_prediction_upper,\n",
    "    cycle_dates,\n",
    "    cycle_wave,\n",
    "    sin_derivative,\n",
    "    zero_crossings,\n",
    "    sin_minima,\n",
    "    sin_maxima,\n",
    "    current\n",
    ")"
   ]
  },
  {
   "cell_type": "markdown",
   "metadata": {},
   "source": [
    "# Conclusions\n",
    "------------\n",
    "\n",
    "The exploration of Bitcoin price cycles offers essential insights into the market's behavior, providing a basis for informed investment strategies. Here are the critical findings from this analysis:\n",
    "\n",
    "1.  **Cyclical Nature of Bitcoin Prices:** This analysis validates the cyclical patterns within Bitcoin prices, clearly influenced by halving events. This periodic nature underscores the predictability in the market dynamics around these events.\n",
    "    \n",
    "2.  **Validation of Hypotheses:** The data supports the hypothesis that the peaks of previous Bitcoin cycles align with the 50% phase of the sinusoidal model, and the bottoms coincide with the 75% phase. This confirmation lends credence to the underlying assumptions of our cyclical analysis.\n",
    "    \n",
    "3.  **Predictive Insights:** The cyclical model suggests that if the current trends persist, the next peak in Bitcoin prices is likely to occur around the end of 2025, followed by the next significant bottom towards the end of 2026. These predictions are invaluable for market participants looking to time their investment decisions effectively.\n",
    "    \n",
    "\n",
    "### Summary\n",
    "\n",
    "This detailed analysis not only reaffirms the cyclical nature of Bitcoin prices but also highlights the predictive power of understanding these cycles in relation to key events like halvings. By recognizing these patterns, investors and analysts can better navigate the volatile cryptocurrency market, planning their strategies with greater confidence based on anticipated price movements. \n",
    "\n",
    "Not a financial advice, just research."
   ]
  }
 ],
 "metadata": {
  "kernelspec": {
   "display_name": "Python 3",
   "language": "python",
   "name": "python3"
  },
  "language_info": {
   "codemirror_mode": {
    "name": "ipython",
    "version": 3
   },
   "file_extension": ".py",
   "mimetype": "text/x-python",
   "name": "python",
   "nbconvert_exporter": "python",
   "pygments_lexer": "ipython3",
   "version": "3.9.16"
  }
 },
 "nbformat": 4,
 "nbformat_minor": 2
}

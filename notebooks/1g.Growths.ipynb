{
 "cells": [
  {
   "cell_type": "markdown",
   "metadata": {},
   "source": [
    "# **Bitcoin Price vs. SMA(209)**\n",
    "\n",
    "In this visualization, we display the Bitcoin price movement in comparison to its Simple Moving Average (SMA) calculated over 209 weeks. The reason for choosing 209 weeks is linked to the **Bitcoin halving** cycle, which occurs every 4 years, approximately equivalent to 209 weeks.\n",
    "\n",
    "## Data Used\n",
    "The data used is the weekly (resampled) price of Bitcoin in USD. The moving average (SMA) is calculated using a window of 209 weeks, designed to capture a complete cycle between two halving events.\n",
    "\n",
    "## Observations\n",
    "It is remarkable how the 209-week SMA often acts as a **support level** for Bitcoin's price. This is especially noticeable during downturns, where the price tends to revert towards the moving average before starting a new upward trend. The use of a logarithmic scale on the chart allows us to better visualize price variations, highlighting both large and small movements.\n",
    "\n",
    "## Chart Settings\n",
    "- The chart uses a **logarithmic scale** on the y-axis, given the exponential growth nature of Bitcoin's price.\n",
    "- The y-axis labels are formatted to simplify the reading of large numbers (e.g., thousands, millions).\n",
    "- The plot shows the **PriceUSD** in blue and the **209-week SMA** in orange.\n"
   ]
  },
  {
   "cell_type": "code",
   "execution_count": null,
   "metadata": {
    "execution": {
     "iopub.execute_input": "2025-04-01T12:36:06.102310Z",
     "iopub.status.busy": "2025-04-01T12:36:06.102124Z",
     "iopub.status.idle": "2025-04-01T12:36:09.994507Z",
     "shell.execute_reply": "2025-04-01T12:36:09.994136Z"
    }
   },
   "outputs": [],
   "source": [
    "import sys\n",
    "sys.path.append(\"/Users/danieleraimondi/bitcoin_datascience/functions\")\n",
    "\n",
    "from functions_Growths import (\n",
    "    plot_bitcoin_price_vs_sma,\n",
    "    load_and_preprocess_data,\n",
    "    plot_bitcoin_halving_growth,\n",
    "    plot_bitcoin_price_epochs,\n",
    ")\n",
    "\n",
    "df = load_and_preprocess_data()\n",
    "plot_bitcoin_price_vs_sma(df)"
   ]
  },
  {
   "cell_type": "markdown",
   "metadata": {},
   "source": [
    "# **Bitcoin Growth since Halvings**\n",
    "\n",
    "This section presents a visualization of Bitcoin's price growth since each halving event. The function `plot_bitcoin_halving_growth` retrieves Bitcoin price data from a specified CSV file, processes it, and generates a plot showing the growth of Bitcoin prices relative to the price at the start of each epoch defined by halving events.\n",
    "\n",
    "## Overview\n",
    "\n",
    "The function visualizes how Bitcoin's price has changed over time, starting from a normalized price of 1 at the beginning of each epoch. Each line in the plot represents the price index for a specific epoch, allowing for easy comparison of growth trajectories across different halving events. \n",
    "\n",
    "This visualization also illustrates the law of diminishing returns, as Bitcoin's price growth tends to decrease with each successive halving. As the block rewards are halved, the market dynamics change, leading to lower returns in terms of price appreciation for each epoch.\n",
    "\n",
    "\n",
    "### Epoch Boundaries:\n",
    "The epochs are defined based on the following halving events:\n",
    "1. **Epoch 1 (50 BTC)**: November 28, 2012\n",
    "2. **Epoch 2 (25 BTC)**: July 9, 2016\n",
    "3. **Epoch 3 (12.5 BTC)**: May 11, 2020\n",
    "4. **Epoch 4 (6.25 BTC)**: April 20, 2024\n",
    "5. **Epoch 5 (3.125 BTC)**: April 20, 2028\n",
    "\n",
    "### Visualization:\n",
    "- The y-axis is set to a logarithmic scale to effectively display the wide range of Bitcoin price indices.\n",
    "- Each epoch's growth is plotted as a separate line, with colors assigned to distinguish between them.\n",
    "- The y-axis represents the price index, where the price at the beginning of each epoch is normalized to 1 for comparison.\n",
    "- A title and labels are added for clarity, and the legend is displayed to indicate which line corresponds to each epoch.\n",
    "- An informative text box is included in the plot to explain that each line represents the growth of Bitcoin price starting from 1 at the beginning of each epoch.\n",
    "\n",
    "### Conclusion\n",
    "This plot provides insights into the growth patterns of Bitcoin prices following each halving event. By comparing price trajectories across epochs, one can gain a deeper understanding of Bitcoin's price dynamics and the potential impact of halvings on its future growth. The law of diminishing returns suggests that with each new epoch, the returns in terms of price appreciation may decline, reflecting the evolving nature of the market.\n"
   ]
  },
  {
   "cell_type": "code",
   "execution_count": null,
   "metadata": {
    "execution": {
     "iopub.execute_input": "2025-04-01T12:36:10.017504Z",
     "iopub.status.busy": "2025-04-01T12:36:10.017346Z",
     "iopub.status.idle": "2025-04-01T12:36:12.042571Z",
     "shell.execute_reply": "2025-04-01T12:36:12.042037Z"
    }
   },
   "outputs": [],
   "source": [
    "plot_bitcoin_halving_growth()"
   ]
  },
  {
   "cell_type": "markdown",
   "metadata": {},
   "source": [
    "# **Bitcoin Price by Epochs**\n",
    "\n",
    "This section presents a visualization of Bitcoin prices across different epochs defined by halving events. \n",
    "\n",
    "## Overview\n",
    "\n",
    "The function `plot_bitcoin_price_epochs` retrieves Bitcoin price data from a specified CSV file, processes it, and then plots the prices for different epochs. Each epoch represents a distinct period in Bitcoin's history, marked by halving events that reduce the block reward for miners. These halvings occur approximately every four years and are significant in shaping Bitcoin's supply dynamics and price behavior.\n",
    "\n",
    "### Epoch Boundaries:\n",
    "The epochs are defined based on the following halving events:\n",
    "1. **Epoch 1 (50 BTC)**: November 28, 2012\n",
    "2. **Epoch 2 (25 BTC)**: July 9, 2016\n",
    "3. **Epoch 3 (12.5 BTC)**: May 11, 2020\n",
    "4. **Epoch 4 (6.25 BTC)**: April 20, 2024\n",
    "5. **Epoch 5 (3.125 BTC)**: April 20, 2028\n",
    "\n",
    "### Visualization:\n",
    "- The y-axis is set to a logarithmic scale to effectively display the vast range of Bitcoin prices.\n",
    "- Custom y-ticks are set to show specific price ranges (1, 10, 100, etc.) without scientific notation for better readability.\n",
    "- Each epoch is plotted as a separate line, and the corresponding Bitcoin block reward is indicated in the legend.\n",
    "- A title and labels are added for clarity, and the legend is displayed to distinguish between the epochs.\n",
    "\n",
    "### Conclusion\n",
    "This plot provides insights into how Bitcoin's price has evolved over time, particularly in relation to its halving events. By visualizing price changes in the context of these significant events, one can better understand Bitcoin's market dynamics and potential future trends.\n"
   ]
  },
  {
   "cell_type": "code",
   "execution_count": null,
   "metadata": {
    "execution": {
     "iopub.execute_input": "2025-04-01T12:36:12.045531Z",
     "iopub.status.busy": "2025-04-01T12:36:12.045388Z",
     "iopub.status.idle": "2025-04-01T12:36:13.489774Z",
     "shell.execute_reply": "2025-04-01T12:36:13.489282Z"
    }
   },
   "outputs": [],
   "source": [
    "plot_bitcoin_price_epochs()"
   ]
  }
 ],
 "metadata": {
  "kernelspec": {
   "display_name": "Python 3",
   "language": "python",
   "name": "python3"
  },
  "language_info": {
   "codemirror_mode": {
    "name": "ipython",
    "version": 3
   },
   "file_extension": ".py",
   "mimetype": "text/x-python",
   "name": "python",
   "nbconvert_exporter": "python",
   "pygments_lexer": "ipython3",
   "version": "3.9.16"
  }
 },
 "nbformat": 4,
 "nbformat_minor": 2
}

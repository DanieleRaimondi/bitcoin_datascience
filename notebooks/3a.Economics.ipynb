{
 "cells": [
  {
   "cell_type": "markdown",
   "metadata": {},
   "source": [
    "## **Understanding Bitcoin Price Dynamics through Economic Indicators**\n",
    "\n",
    "### Overview\n",
    "\n",
    "Bitcoin's price movements are influenced by various economic indicators that reflect the broader financial landscape. By analyzing these determinants, investors can better understand market trends and anticipate potential future movements in Bitcoin's value. The key economic indicators we consider include:\n",
    "\n",
    "1. **10-Year Interest Rates**\n",
    "2. **Federal Funds Rate**\n",
    "3. **M2 Money Supply**\n",
    "4. **Inflation Rate**\n",
    "\n",
    "### 1. 10-Year Interest Rates\n",
    "\n",
    "The 10-year interest rate, often referred to as the yield on 10-year Treasury bonds, serves as a crucial barometer for investor sentiment regarding future economic conditions. \n",
    "\n",
    "- **Market Expectations**: An increase in the 10-year yield usually indicates that investors expect higher inflation or robust economic growth. Conversely, a decline suggests expectations of economic stagnation or lower inflation.\n",
    "\n",
    "- **Impact on Risk Assets**: Higher yields can make fixed-income investments more attractive compared to riskier assets like Bitcoin. Therefore, when the 10-year interest rate rises, Bitcoin may face downward pressure as investors shift their portfolios toward safer, interest-bearing assets.\n",
    "\n",
    "### 2. Federal Funds Rate\n",
    "\n",
    "The Federal Funds Rate is the interest rate at which banks lend to each other overnight and is a primary tool of the Federal Reserve in implementing monetary policy.\n",
    "\n",
    "- **Monetary Policy Tool**: Changes in the Federal Funds Rate directly impact the cost of borrowing and the availability of money in the economy. A rise in this rate is typically aimed at controlling inflation but can also slow down economic growth, affecting investor confidence.\n",
    "\n",
    "- **Investor Behavior**: When the Federal Reserve raises rates, it can lead to reduced liquidity in the market, causing investors to reconsider their holdings in volatile assets like Bitcoin. A rising Federal Funds Rate can thus create a challenging environment for cryptocurrencies.\n",
    "\n",
    "### 3. M2 Money Supply\n",
    "\n",
    "M2 is a measure of the money supply that includes cash, checking deposits, and easily convertible near money. \n",
    "\n",
    "- **Liquidity Indicator**: An increase in M2 signifies that more money is available in the economy, enhancing consumer spending and investment capabilities. This influx of liquidity can drive demand for Bitcoin, especially when traditional interest rates are low.\n",
    "\n",
    "- **Inflation and Demand**: Higher M2 levels can also correlate with increased inflation. When consumers have more money, they are likely to spend more, leading to price increases across various goods and services. In such scenarios, Bitcoin is often viewed as a hedge against inflation, further boosting its appeal.\n",
    "\n",
    "### 4. Inflation Rate\n",
    "\n",
    "The inflation rate measures the rate at which the general level of prices for goods and services is rising, eroding purchasing power.\n",
    "\n",
    "- **Purchasing Power Dynamics**: When inflation rates rise, fiat currencies lose value, prompting investors to seek alternative assets to preserve wealth. Bitcoin is increasingly seen as a digital store of value, akin to gold, especially during periods of high inflation.\n",
    "\n",
    "- **Investor Sentiment**: High inflation can lead to uncertainty in traditional markets, pushing investors toward cryptocurrencies as a safe haven. This shift in sentiment can lead to increased demand and, consequently, higher Bitcoin prices.\n",
    "\n",
    "### Implications for Bitcoin Price Movements\n",
    "\n",
    "#### Bullish Scenarios\n",
    "\n",
    "- **Economic Growth**: If the 10-year interest rates rise due to strong economic growth expectations, followed by a measured increase in the Federal Funds Rate, the liquidity provided by an expanding M2 could support Bitcoin demand. In such cases, Bitcoin may benefit from increased investor interest as a hedge against inflation.\n",
    "\n",
    "- **Inflationary Environment**: In a scenario where inflation continues to rise, prompting the Fed to maintain or reduce interest rates to support economic growth, Bitcoin could experience a bullish phase as more investors seek out alternative assets.\n",
    "\n",
    "#### Bearish Scenarios\n",
    "\n",
    "- **Tightening Monetary Policy**: If the Federal Reserve aggressively raises rates to combat inflation without a corresponding boost in economic activity, it could lead to reduced liquidity and lower demand for Bitcoin. This could create bearish market sentiment as investors turn to fixed-income assets for stability.\n",
    "\n",
    "- **Economic Slowdown**: A rise in the 10-year interest rates accompanied by a lack of economic growth may indicate that investors are bracing for a slowdown. This could lead to decreased demand for Bitcoin as risk appetite diminishes.\n",
    "\n",
    "### Conclusion\n",
    "\n",
    "By understanding the interplay between Bitcoin and key economic indicators such as interest rates, M2 money supply, and inflation, investors can better navigate the complex landscape of cryptocurrency markets. Monitoring these relationships can provide valuable insights into potential future price movements, helping investors position themselves effectively in anticipation of bull or bear runs in Bitcoin.\n"
   ]
  },
  {
   "cell_type": "code",
   "execution_count": null,
   "metadata": {
    "execution": {
     "iopub.execute_input": "2025-04-01T12:36:35.321904Z",
     "iopub.status.busy": "2025-04-01T12:36:35.321709Z",
     "iopub.status.idle": "2025-04-01T12:36:41.364855Z",
     "shell.execute_reply": "2025-04-01T12:36:41.364299Z"
    }
   },
   "outputs": [],
   "source": [
    "import sys\n",
    "sys.path.append(\"/Users/danieleraimondi/bitcoin_datascience/functions\")\n",
    "from functions_Economics import plot_btc_economics, plot_btc_m2sl_global_money_yoy\n",
    "\n",
    "# Call the function with options\n",
    "plot_btc_economics(\n",
    "    include_10yr_interest=True,\n",
    "    include_federal_funds=True,\n",
    "    include_m2=True,\n",
    "    include_inflation=True,\n",
    "    include_sma=False,\n",
    "    sma_period=365,\n",
    ")"
   ]
  },
  {
   "cell_type": "markdown",
   "metadata": {},
   "source": [
    "### BTC Price vs. US M2 and Global Broad Money Year-over-Year Percent Changes\n",
    "\n",
    "The plot illustrates the relationship between Bitcoin's price (BTC) and two important economic indicators:\n",
    "1. **US M2 YoY Percent Change** – representing the money supply growth in the United States.\n",
    "2. **Global Broad Money YoY Percent Change** – indicating global monetary expansion.\n",
    "\n",
    "#### Key Insights:\n",
    "- The **global broad money supply** shows a strong correlation with Bitcoin's price movements, highlighting how the increase in global liquidity drives demand for Bitcoin as an asset.\n",
    "- As the global money supply grows, more capital enters the market, which often leads to a rise in the price of Bitcoin, reflecting its appeal as a hedge against monetary inflation.\n",
    "- **US M2**, while important, is more localized and might not impact Bitcoin as strongly as global liquidity changes.\n",
    "\n",
    "This comparison provides insight into how broader economic factors, particularly global monetary expansion, influence Bitcoin's price dynamics over time.\n"
   ]
  },
  {
   "cell_type": "code",
   "execution_count": null,
   "metadata": {
    "execution": {
     "iopub.execute_input": "2025-04-01T12:36:41.367851Z",
     "iopub.status.busy": "2025-04-01T12:36:41.367689Z",
     "iopub.status.idle": "2025-04-01T12:36:43.936185Z",
     "shell.execute_reply": "2025-04-01T12:36:43.935715Z"
    }
   },
   "outputs": [],
   "source": [
    "plot_btc_m2sl_global_money_yoy()"
   ]
  }
 ],
 "metadata": {
  "kernelspec": {
   "display_name": "Python 3",
   "language": "python",
   "name": "python3"
  },
  "language_info": {
   "codemirror_mode": {
    "name": "ipython",
    "version": 3
   },
   "file_extension": ".py",
   "mimetype": "text/x-python",
   "name": "python",
   "nbconvert_exporter": "python",
   "pygments_lexer": "ipython3",
   "version": "3.9.16"
  }
 },
 "nbformat": 4,
 "nbformat_minor": 2
}

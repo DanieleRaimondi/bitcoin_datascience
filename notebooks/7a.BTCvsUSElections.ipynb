{
 "cells": [
  {
   "cell_type": "markdown",
   "metadata": {},
   "source": [
    "# orrelation Between Bitcoin Price and Donald Trump's Election Probability for 2024\n",
    "\n",
    "## Goal\n",
    "\n",
    "The goal of this analysis is to explore the potential correlation between Bitcoin's price and the probability of Donald Trump winning the 2024 U.S. Presidential Election. According to some market theories, political uncertainty—especially the possibility of a Bitcoin-friendly president like Trump—could influence the price of the cryptocurrency. In this context, we aim to investigate whether there is any meaningful relationship between these two variables and assess whether Trump's election probability can be used to predict Bitcoin price movements.\n",
    "\n",
    "## Data Source\n",
    "\n",
    "The data for this analysis is sourced from **Polymarket**, a prediction market where people place bets on the outcome of various events. The probabilities derived from these bets represent the collective opinion of the market, also referred to as the \"voice of the people.\" These probabilities reflect market convergence towards what participants believe is the most likely outcome, making it an interesting metric to analyze. In essence, these probabilities can serve as a real-time gauge of public sentiment and perceived likelihood of future events, such as the 2024 U.S. Presidential Election outcome.\n",
    "\n",
    "### Data Overview\n",
    "\n",
    "1. **Bitcoin Price Data**: Historical Bitcoin price data (USD) is used to track the cryptocurrency's market performance over time.\n",
    "\n",
    "2. **Election Probability Data**: The probability of Donald Trump, Joe Biden, Kamala Harris, and the combined Democrats (Biden + Harris) winning the 2024 election, as derived from Polymarket. These probabilities are updated regularly and reflect the market’s ongoing sentiment and expectations about the election outcome.\n",
    "\n",
    "## Approach\n",
    "\n",
    "### Steps\n",
    "\n",
    "1. **Data Collection**: We will load Bitcoin price data and U.S. election probabilities for 2024 from Polymarket.\n",
    "   \n",
    "2. **Data Merging**: We will merge the Bitcoin data with the election probability data based on time, ensuring that both datasets are aligned chronologically.\n",
    "   \n",
    "3. **Data Visualization**: We will create a multi-axis plot to visualize Bitcoin's price alongside the election probabilities for Donald Trump, Joe Biden, Kamala Harris, and the Democrats. This will allow us to visually assess whether there is any observable correlation between Bitcoin's price and the election probabilities over time.\n",
    "\n",
    "4. **LOESS Smoothing**: To better identify trends, we will apply LOESS (locally weighted scatterplot smoothing) to the data, which will help smooth out short-term fluctuations and highlight the underlying trends in both Bitcoin prices and election probabilities.\n",
    "\n",
    "5. **Correlation Analysis**: We will analyze the potential correlation between Bitcoin's price movements and the election probabilities, focusing on Trump's probability due to his known favorable stance towards Bitcoin. This analysis aims to provide insights into whether changes in election probability could be used as an indicator of Bitcoin's price movements.\n",
    "\n",
    "## Expected Outcome\n",
    "\n",
    "By visualizing and analyzing the relationship between Bitcoin’s price and the election probabilities, we hope to identify any significant correlations that could be used to forecast Bitcoin price changes based on political sentiment. If a strong correlation is found, we may have an opportunity to use election probabilities as a predictive tool for Bitcoin’s price, particularly in the context of the 2024 U.S. Presidential Election.\n",
    "\n"
   ]
  },
  {
   "cell_type": "code",
   "execution_count": null,
   "metadata": {
    "execution": {
     "iopub.execute_input": "2025-03-01T20:55:08.481416Z",
     "iopub.status.busy": "2025-03-01T20:55:08.481119Z",
     "iopub.status.idle": "2025-03-01T20:55:13.842832Z",
     "shell.execute_reply": "2025-03-01T20:55:13.842459Z"
    }
   },
   "outputs": [],
   "source": [
    "import pandas as pd\n",
    "import sys\n",
    "\n",
    "sys.path.append(\"/Users/danieleraimondi/bitcoin_datascience/functions\")\n",
    "\n",
    "from functions_USElections import (\n",
    "    load_bitcoin_data,\n",
    "    load_election_probabilities,\n",
    "    merge_data,\n",
    "    plot_data,\n",
    ")\n",
    "\n",
    "# Load the data\n",
    "btc_data = load_bitcoin_data()\n",
    "election_data = load_election_probabilities()\n",
    "merged_data = merge_data(election_data, btc_data)\n",
    "\n",
    "# Call the plotting function\n",
    "plot_data(\n",
    "    merged_data,\n",
    "    include_trump=True,\n",
    "    include_biden=False,\n",
    "    include_harris=False,\n",
    "    include_democrats=True,\n",
    "    apply_loess=True,\n",
    "    frac=0.05,\n",
    ")"
   ]
  }
 ],
 "metadata": {
  "kernelspec": {
   "display_name": "Python 3",
   "language": "python",
   "name": "python3"
  },
  "language_info": {
   "codemirror_mode": {
    "name": "ipython",
    "version": 3
   },
   "file_extension": ".py",
   "mimetype": "text/x-python",
   "name": "python",
   "nbconvert_exporter": "python",
   "pygments_lexer": "ipython3",
   "version": "3.9.16"
  }
 },
 "nbformat": 4,
 "nbformat_minor": 2
}

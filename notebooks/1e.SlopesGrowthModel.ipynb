{
 "cells": [
  {
   "cell_type": "markdown",
   "metadata": {},
   "source": [
    "# **Bitcoin Growth Rate Estimation Model: Objectives and Methodology**\n",
    "\n",
    "## 1. Introduction\n",
    "\n",
    "This analysis aims to estimate the future growth rate of Bitcoin's price by examining historical trends and projecting them into the future. The model is based on the observation that Bitcoin's growth rate, while still positive, has been decreasing over time. This decline is hypothesized to be related to Bitcoin halving events and the economic theory of diminishing returns.\n",
    "\n",
    "## 2. Objectives\n",
    "\n",
    "The primary objectives of this analysis are:\n",
    "\n",
    "1. To quantify the historical growth rates of Bitcoin across different market cycles.\n",
    "2. To identify and model the trend of decreasing growth rates over time.\n",
    "3. To estimate the potential peak price of Bitcoin in the next market cycle, with a focus on November 2025 as the hypothetical cycle peak.\n",
    "4. To explore the relationship between growth rate decline, Bitcoin halving events, and the theory of diminishing returns.\n",
    "\n",
    "## 3. Methodology\n",
    "\n",
    "### 3.1 Data Collection and Preparation\n",
    "\n",
    "- Historical Bitcoin price data is obtained from a reliable source (CoinMetrics).\n",
    "- The data is processed to ensure consistency and to handle any missing values.\n",
    "\n",
    "### 3.2 Identifying Market Cycle Peaks\n",
    "\n",
    "- Key market cycle peaks are identified based on historical price data.\n",
    "- The dates used for this analysis are: June 8, 2011; November 30, 2013; December 17, 2017; and November 10, 2021.\n",
    "\n",
    "### 3.3 Calculating Growth Rates\n",
    "\n",
    "- Log-linear regression lines are fitted between consecutive market cycle peaks.\n",
    "- The slope of each regression line represents the growth rate for that particular cycle.\n",
    "- These slopes (growth rates) are extracted and analyzed.\n",
    "\n",
    "### 3.4 Modeling the Decline in Growth Rates\n",
    "\n",
    "- The extracted slopes are plotted chronologically to visualize the trend.\n",
    "- A linear regression is performed on these slopes to model the decline in growth rates over time.\n",
    "- The relationship between slope decline and Bitcoin halving events is examined.\n",
    "\n",
    "### 3.5 Projecting Future Growth Rate\n",
    "\n",
    "- Using the linear regression model of declining slopes, we extrapolate to estimate the growth rate for the next market cycle.\n",
    "- The impact of future halving events on the projected growth rate is considered.\n",
    "\n",
    "### 3.6 Estimating Future Peak Price\n",
    "\n",
    "- The estimated growth rate is applied from the last known market cycle peak (November 2021) to the hypothetical next peak date (November 2025).\n",
    "- This projection provides an estimate for the potential Bitcoin price at the next market cycle peak.\n",
    "\n",
    "## 4. Key Assumptions\n",
    "\n",
    "1. The pattern of decreasing growth rates will continue in a predictable manner.\n",
    "2. The next market cycle peak will occur around November 2025 (based on other models not detailed in this analysis).\n",
    "3. Log-linear growth between market cycle peaks is a reasonable approximation of Bitcoin's price behavior.\n",
    "4. Bitcoin halving events and the principle of diminishing returns significantly influence the declining growth rates.\n",
    "\n",
    "## 5. Limitations and Considerations\n",
    "\n",
    "- This model is based on historical data and assumes that past patterns will continue. Unforeseen events or fundamental changes in the cryptocurrency market could significantly impact the accuracy of predictions.\n",
    "- The choice of peak dates and the assumption of a November 2025 peak for the next cycle introduce subjectivity into the model.\n",
    "- Regulatory changes, technological advancements, or shifts in market dynamics could alter Bitcoin's growth trajectory in ways not captured by this model.\n",
    "- The exact impact of halving events and diminishing returns on Bitcoin's price is still a subject of debate and may not follow a strictly predictable pattern.\n",
    "\n",
    "## 6. Conclusion\n",
    "\n",
    "This methodology provides a structured approach to estimating Bitcoin's future growth rate and potential peak price, taking into account the effects of halving events and the economic principle of diminishing returns. By analyzing the historical trend of decreasing growth rates, we aim to make an informed projection about the next market cycle. However, it's crucial to interpret the results with caution and consider them as one of many possible scenarios rather than a definitive prediction."
   ]
  },
  {
   "cell_type": "code",
   "execution_count": null,
   "metadata": {
    "execution": {
     "iopub.execute_input": "2025-04-01T12:36:00.090186Z",
     "iopub.status.busy": "2025-04-01T12:36:00.089996Z",
     "iopub.status.idle": "2025-04-01T12:36:03.730751Z",
     "shell.execute_reply": "2025-04-01T12:36:03.730368Z"
    }
   },
   "outputs": [],
   "source": [
    "import warnings\n",
    "warnings.filterwarnings(\"ignore\")\n",
    "import sys\n",
    "sys.path.append(\"/Users/danieleraimondi/bitcoin_datascience/functions\")\n",
    "from functions_SlopesGrowthModel import slopes_growth_model\n",
    "\n",
    "slopes_growth_model()"
   ]
  }
 ],
 "metadata": {
  "kernelspec": {
   "display_name": "Python 3",
   "language": "python",
   "name": "python3"
  },
  "language_info": {
   "codemirror_mode": {
    "name": "ipython",
    "version": 3
   },
   "file_extension": ".py",
   "mimetype": "text/x-python",
   "name": "python",
   "nbconvert_exporter": "python",
   "pygments_lexer": "ipython3",
   "version": "3.9.16"
  }
 },
 "nbformat": 4,
 "nbformat_minor": 2
}

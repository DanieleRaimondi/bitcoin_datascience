{
 "cells": [
  {
   "cell_type": "markdown",
   "metadata": {},
   "source": [
    "# **Bitcoin and DXY Analysis**\n",
    "\n",
    "This project aims to analyze the relationship between Bitcoin prices (PriceUSD) and the US Dollar Index (DXY) over time. \n",
    "\n",
    "The hypothesis is that since BTC is backed by USD, it is significantly affected by the performance of DXY. \n",
    "\n",
    "I am using LOESS (Locally Estimated Scatterplot Smoothing) to visualize trends and their derivatives, providing insights into market behaviors during different periods.\n",
    "\n",
    "## Project Overview\n",
    "\n",
    "The primary focus of this project is to visualize and analyze the correlation between Bitcoin prices and DXY. The following key elements are included:\n",
    "\n",
    "1. **Data Collection**: Downloading historical data for Bitcoin and DXY.\n",
    "2. **Data Smoothing**: Applying LOESS smoothing to both datasets to highlight trends.\n",
    "3. **Trend Analysis**: Calculating and plotting the derivative of the LOESS curves to identify periods of upward and downward trends.\n",
    "4. **Highlighting Significant Periods**: Using color coding to differentiate between bull and bear markets:\n",
    "   - **Red**: Downtrend periods (Price down, DXY up).\n",
    "   - **Green**: Bull market periods (Price up, DXY down).\n",
    "   - **Orange**: Initial bull market periods (Price up, DXY sideways).\n",
    "\n",
    "## Visualization\n",
    "\n",
    "The project generates a comprehensive plot that includes:\n",
    "- Bitcoin prices on a logarithmic scale.\n",
    "- DXY values on a secondary y-axis.\n",
    "- Colored spans to highlight different market trends and periods.\n",
    "- Annotated text to explain the trend behavior during each period.\n",
    "\n",
    "## Conclusions\n",
    "\n",
    "The analysis demonstrates that:\n",
    "\n",
    "1. During downtrend phases (diminishing price), DXY increases.\n",
    "2. In initial bull phases (rising price), DXY moves sideways.\n",
    "3. During final bull phases (rising price), DXY decreases.\n",
    "\n",
    "The initial hypothesis has been confirmed by the analysis."
   ]
  },
  {
   "cell_type": "code",
   "execution_count": null,
   "metadata": {
    "execution": {
     "iopub.execute_input": "2025-04-01T12:36:46.550104Z",
     "iopub.status.busy": "2025-04-01T12:36:46.549690Z",
     "iopub.status.idle": "2025-04-01T12:36:50.581339Z",
     "shell.execute_reply": "2025-04-01T12:36:50.580961Z"
    }
   },
   "outputs": [],
   "source": [
    "import pandas as pd\n",
    "import warnings\n",
    "warnings.filterwarnings(\"ignore\")\n",
    "import sys\n",
    "sys.path.append(\"/Users/danieleraimondi/bitcoin_datascience/functions\")\n",
    "from functions_DXY import load_dxy_data, load_btc_data, plot_models, add_loess\n",
    "\n",
    "\n",
    "# Load data\n",
    "dxy = load_dxy_data()\n",
    "btc = load_btc_data()\n",
    "df = btc.join(dxy, how=\"inner\")\n",
    "\n",
    "# LOESS addition\n",
    "df[\"PriceUSD_LOESS\"] = add_loess(df, \"PriceUSD\")\n",
    "df[\"DXY_LOESS\"] = add_loess(df, \"DXY\")"
   ]
  },
  {
   "cell_type": "code",
   "execution_count": null,
   "metadata": {
    "execution": {
     "iopub.execute_input": "2025-04-01T12:36:50.583615Z",
     "iopub.status.busy": "2025-04-01T12:36:50.583475Z",
     "iopub.status.idle": "2025-04-01T12:36:54.872977Z",
     "shell.execute_reply": "2025-04-01T12:36:54.872411Z"
    }
   },
   "outputs": [],
   "source": [
    "# Dates definitions\n",
    "tops_dates = pd.to_datetime([\"2011-06-08\", \"2013-11-30\", \"2017-12-17\", \"2021-11-10\", pd.to_datetime(\"today\")])\n",
    "bottoms_dates = pd.to_datetime([\"2011-11-11\", \"2015-01-14\", \"2018-12-15\", \"2022-11-12\"])\n",
    "startbull_dates = pd.to_datetime([\"2010-07-19\", \"2013-07-05\", \"2017-03-25\", \"2020-04-01\", \"2024-12-01\"])\n",
    "\n",
    "# Plot\n",
    "plot_models(df, tops_dates, bottoms_dates, startbull_dates)"
   ]
  }
 ],
 "metadata": {
  "kernelspec": {
   "display_name": "Python 3",
   "language": "python",
   "name": "python3"
  },
  "language_info": {
   "codemirror_mode": {
    "name": "ipython",
    "version": 3
   },
   "file_extension": ".py",
   "mimetype": "text/x-python",
   "name": "python",
   "nbconvert_exporter": "python",
   "pygments_lexer": "ipython3",
   "version": "3.9.16"
  }
 },
 "nbformat": 4,
 "nbformat_minor": 2
}

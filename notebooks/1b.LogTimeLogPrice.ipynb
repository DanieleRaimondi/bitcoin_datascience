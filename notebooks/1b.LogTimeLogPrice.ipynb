{
 "cells": [
  {
   "cell_type": "markdown",
   "metadata": {},
   "source": [
    "# **Bitcoin LogTimeLogPrice with Oscillator**\n",
    "\n",
    "* * *\n",
    "\n",
    "## Overview\n",
    "The `plot_log_log_graph_with_oscillator` function is a powerful tool designed to analyze Bitcoin's `PriceUSD` over time using a log-log graph. In addition to plotting support and resistance lines using Ordinary Least Squares (OLS) regression, this function introduces an oscillator subplot. This oscillator provides insights into market sentiment, aiding investors in identifying potential buy and sell signals based on deviations from the trend lines.\n",
    "\n",
    "## Objective\n",
    "The primary goal of this analysis is to offer a comprehensive understanding of Bitcoin's growth trajectory. By incorporating the oscillator subplot, this function enhances traditional log-log analysis, providing additional insights into market dynamics and sentiment. The objective is to empower investors and traders with the information they need to make informed decisions in the cryptocurrency market.\n",
    "\n",
    "## Key Features\n",
    "\n",
    "### Daily Data Extension\n",
    "Similar to the `plot_log_log_graph` function, `plot_log_log_graph_with_oscillator` extends the provided dataframe to include daily data points up until the specified `future_year`. This extension ensures a thorough analysis of Bitcoin's price trends and facilitates accurate forecasting.\n",
    "\n",
    "### Support and Resistance Lines\n",
    "The function calculates support and resistance lines using OLS regression on log-log transformed data. These lines serve as critical indicators of potential price maxima and minima, helping investors identify key levels where the price may find support or face resistance.\n",
    "\n",
    "### Oscillator Subplot\n",
    "A unique feature of `plot_log_log_graph_with_oscillator` is the addition of an oscillator subplot. This subplot measures the percentage difference between the actual price and the support/resistance lines. By analyzing this oscillator, investors can gauge market sentiment and identify potential buying or selling opportunities.\n",
    "\n",
    "### Customizable Plot\n",
    "Like its predecessor, `plot_log_log_graph_with_oscillator` offers a range of customization options, allowing users to tailor the graph to their specific preferences. This includes adjusting axis labels, title, y-axis limits, and formatting of year labels, ensuring a personalized and insightful analysis.\n",
    "\n",
    "### Yearly and Interval Labels\n",
    "The function adds vertical lines and labels for every January 1st until a specified year (`yearly_labels_until`), followed by additional labels at specified intervals. This labeling strategy enhances the readability of the graph, especially when dealing with long time horizons.\n",
    "\n",
    "## Detailed Steps of the Function\n",
    "\n",
    "1. **Data Preparation**: Ensure that the required columns (`time` and `PriceUSD`) are present in the DataFrame. Convert the `time` column to a datetime format for accurate plotting.\n",
    "\n",
    "2. **Daily Data Extension**: Extend the dataframe to include daily data points up until the specified `future_year`, filling any missing `PriceUSD` values with `NaN`.\n",
    "\n",
    "3. **Index Calculation**: Add a new column `index` ranging from 1 to the length of the extended dataframe for log-log transformation and OLS regression.\n",
    "\n",
    "4. **Support and Resistance Lines Calculation**: Use OLS regression on log-log transformed data to calculate support and resistance lines based on identified bottom and top dates.\n",
    "\n",
    "5. **Oscillator Calculation**: Calculate the oscillator, measuring the percentage difference between the actual price and the support/resistance lines.\n",
    "\n",
    "6. **Plotting**: Plot the actual `PriceUSD` values against the calculated support and resistance lines, incorporating the oscillator subplot.\n",
    "\n",
    "7. **Customization**: Apply various customization options to the plot, including axis labels, title, y-axis limits, and year label formatting.\n",
    "\n",
    "8. **Display**: Display the final plot showcasing Bitcoin's historical and predicted price trends, along with the oscillator indicating market sentiment.\n",
    "\n",
    "## Conclusion\n",
    "In conclusion, `plot_log_log_graph_with_oscillator` offers a comprehensive analysis of Bitcoin's price dynamics, combining traditional log-log analysis with an oscillator subplot. By incorporating market sentiment analysis into the graph, this function empowers investors and traders with valuable insights, enabling them to make informed decisions in the ever-evolving cryptocurrency market.\n"
   ]
  },
  {
   "cell_type": "code",
   "execution_count": null,
   "metadata": {
    "execution": {
     "iopub.execute_input": "2025-04-01T12:35:45.987095Z",
     "iopub.status.busy": "2025-04-01T12:35:45.986916Z",
     "iopub.status.idle": "2025-04-01T12:35:50.027377Z",
     "shell.execute_reply": "2025-04-01T12:35:50.026929Z"
    }
   },
   "outputs": [],
   "source": [
    "import warnings\n",
    "warnings.filterwarnings(\"ignore\")\n",
    "import pandas as pd\n",
    "import matplotlib.pyplot as plt\n",
    "import sys\n",
    "\n",
    "sys.path.append(\"/Users/danieleraimondi/bitcoin_datascience/functions\")\n",
    "from functions_LogTimeLogPrice import plot_log_log_graph_with_oscillator, plot_final_log_graph_with_oscillator\n",
    "from fetch_data import fetch_data\n",
    "\n",
    "df = plot_log_log_graph_with_oscillator(fetch_data(\"btc\"), future_year=2030)"
   ]
  },
  {
   "cell_type": "code",
   "execution_count": null,
   "metadata": {
    "execution": {
     "iopub.execute_input": "2025-04-01T12:35:50.050555Z",
     "iopub.status.busy": "2025-04-01T12:35:50.050360Z",
     "iopub.status.idle": "2025-04-01T12:35:50.961625Z",
     "shell.execute_reply": "2025-04-01T12:35:50.961292Z"
    }
   },
   "outputs": [],
   "source": [
    "plot_final_log_graph_with_oscillator(df)"
   ]
  },
  {
   "cell_type": "code",
   "execution_count": null,
   "metadata": {
    "execution": {
     "iopub.execute_input": "2025-04-01T12:35:50.964177Z",
     "iopub.status.busy": "2025-04-01T12:35:50.964031Z",
     "iopub.status.idle": "2025-04-01T12:35:50.990731Z",
     "shell.execute_reply": "2025-04-01T12:35:50.990366Z"
    }
   },
   "outputs": [],
   "source": [
    "df[[\"time\", \"PriceUSD\", \"BottomLine\", \"TopLine\"]].to_csv(\"/Users/danieleraimondi/bitcoin_datascience/data/loglog_model.csv\", index=False)"
   ]
  }
 ],
 "metadata": {
  "kernelspec": {
   "display_name": "Python 3",
   "language": "python",
   "name": "python3"
  },
  "language_info": {
   "codemirror_mode": {
    "name": "ipython",
    "version": 3
   },
   "file_extension": ".py",
   "mimetype": "text/x-python",
   "name": "python",
   "nbconvert_exporter": "python",
   "pygments_lexer": "ipython3",
   "version": "3.9.16"
  }
 },
 "nbformat": 4,
 "nbformat_minor": 2
}

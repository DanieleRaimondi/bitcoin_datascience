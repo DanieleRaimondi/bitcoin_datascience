{
 "cells": [
  {
   "cell_type": "markdown",
   "metadata": {},
   "source": [
    "# **Google Trends vs Prices**\n",
    "\n",
    "## Purpose of the Analysis\n",
    "\n",
    "The purpose of this study is to explore the correlation between Google search interest for specific cryptocurrencies and their price fluctuations over time. The hypothesis is that search trends might serve as a proxy for sentiment, potentially acting as an indicator of market behavior.\n",
    "\n",
    "## Methodology\n",
    "\n",
    "1. **Data Collection**  \n",
    "   - **Google Trends Data**: Collected using the `pytrends` library, focusing on search interest for selected cryptocurrencies over two timeframes:\n",
    "     - **Long Period**: A broader historical analysis (e.g., last 5 years).\n",
    "     - **Short Period**: A recent, more granular analysis (e.g., last month).\n",
    "   - **Cryptocurrency Price Data**: Retrieved from publicly available datasets, focusing on USD pricing.\n",
    "\n",
    "2. **Data Visualization**  \n",
    "   - Trends data and price data are plotted together to visually assess correlations.  \n",
    "   - For each cryptocurrency:\n",
    "     - Google Trends data is shown as a line graph.\n",
    "     - Price data is overlaid using a secondary axis for comparison.\n",
    "\n",
    "3. **Analysis Scenarios**  \n",
    "   - **Single Period**: Focused on one timeframe (long or short).  \n",
    "   - **Double Period**: Comparisons between long-term and short-term trends.\n",
    "\n",
    "4. **Correlation Assessment**  \n",
    "   - Key statistics such as maximum, minimum, and average trends values are calculated.\n",
    "   - Correlation is visually examined for potential lagged relationships between spikes in search interest and price changes.\n",
    "\n",
    "## Findings\n",
    "\n",
    "The analysis highlights visible correlations between search trends and price data for some cryptocurrencies. Peaks in Google search interest often align with significant price movements, suggesting that search trends may reflect public sentiment or market activity.\n",
    "\n",
    "## Hypothesis and Future Use\n",
    "\n",
    "The hypothesis was to evaluate whether Google Trends data could be used as a **sentiment indicator** for cryptocurrency markets. While the analysis demonstrates potential, further statistical validation is required to confirm the strength and reliability of this relationship.\n",
    "\n",
    "## Limitations\n",
    "\n",
    "- **Scope**: Limited to selected cryptocurrencies and predefined timeframes.  \n",
    "- **Causation vs Correlation**: Search trends may reflect awareness rather than predictive sentiment.  \n",
    "- **Market Complexity**: Price movements are influenced by various external factors not accounted for in this study.\n",
    "\n",
    "## Conclusion\n",
    "\n",
    "This analysis provides an initial exploration into the relationship between Google Trends and cryptocurrency prices. While promising as a sentiment indicator, further investigation is needed to refine the methodology and validate the findings.\n"
   ]
  },
  {
   "cell_type": "code",
   "execution_count": null,
   "metadata": {
    "execution": {
     "iopub.execute_input": "2025-03-01T20:52:52.456907Z",
     "iopub.status.busy": "2025-03-01T20:52:52.456240Z",
     "iopub.status.idle": "2025-03-01T20:55:05.877072Z",
     "shell.execute_reply": "2025-03-01T20:55:05.876702Z"
    }
   },
   "outputs": [],
   "source": [
    "import sys\n",
    "sys.path.append(\"/Users/danieleraimondi/bitcoin_datascience/functions\")\n",
    "from functions_googletrends import plot_google_trends_crypto\n",
    "\n",
    "\n",
    "coins = [\"bitcoin\",\"ethereum\",\"litecoin\",\"cardano\",\"dogecoin\",\"solana\",\"ripple\"]\n",
    "\n",
    "data = plot_google_trends_crypto(\n",
    "    keywords=coins,\n",
    "    long_period=\"today 5-y\",\n",
    "    short_period=\"today 1-m\",\n",
    "    geo=\"\",\n",
    "    type=\"double\",\n",
    ")"
   ]
  },
  {
   "cell_type": "code",
   "execution_count": null,
   "metadata": {},
   "outputs": [],
   "source": [
    "import pandas as pd\n",
    "url = f\"https://raw.githubusercontent.com/coinmetrics/data/master/csv/sol.csv\"\n",
    "df = pd.read_csv(url, parse_dates=[\"time\"], low_memory=False)\n",
    "df.principal_market_price_usd"
   ]
  }
 ],
 "metadata": {
  "kernelspec": {
   "display_name": "Python 3",
   "language": "python",
   "name": "python3"
  },
  "language_info": {
   "codemirror_mode": {
    "name": "ipython",
    "version": 3
   },
   "file_extension": ".py",
   "mimetype": "text/x-python",
   "name": "python",
   "nbconvert_exporter": "python",
   "pygments_lexer": "ipython3",
   "version": "3.9.16"
  }
 },
 "nbformat": 4,
 "nbformat_minor": 2
}

{
 "cells": [
  {
   "cell_type": "markdown",
   "metadata": {},
   "source": [
    "# Bitcoin Price Trends During U.S. Presidencies\n",
    "\n",
    "## Overview\n",
    "\n",
    "This notebook examines Bitcoin price trends in the context of U.S. presidential administrations, focusing on the hypothesis that **Bitcoin's growth has historically been stronger during Republican administrations, particularly under Donald Trump.** With Trump’s recent victory in the 2024 election, we consider whether the upcoming Bitcoin cycle could mirror the dramatic growth observed during his 2016 presidency.\n",
    "\n",
    "## Hypothesis\n",
    "\n",
    "The analysis is driven by these observations:\n",
    "- **2016 Election**: Donald Trump (Republican) won the presidency, coinciding with an explosive growth in Bitcoin price, reaching all-time highs during his administration.\n",
    "- **2020 Election**: Joe Biden (Democrat) won the presidency, but Bitcoin’s growth in the subsequent cycle was less pronounced than during Trump’s first term.\n",
    "- **2024 Election**: Donald Trump has won the presidency again, raising the question: **Will Bitcoin’s next growth cycle under Trump’s second administration be as strong as the one seen after his 2016 victory?**\n",
    "\n",
    "## Key Steps in the Analysis\n",
    "\n",
    "### 1. **Bitcoin Data Loading**\n",
    "   - Bitcoin price data is loaded using the `load_bitcoin_data()` function.\n",
    "   - The dataset includes:\n",
    "     - `time`: Timestamps for each Bitcoin price observation.\n",
    "     - `PriceUSD`: Bitcoin prices in USD.\n",
    "\n",
    "### 2. **Data Preprocessing**\n",
    "   - Historical U.S. presidential election data is prepared, showing the winning party (Democratic or Republican) and election dates.\n",
    "   - The `preprocess_data()` function aligns Bitcoin prices with the most recent election date preceding each observation. This helps identify price trends under each administration.\n",
    "\n",
    "### 3. **Visualization**\n",
    "   - The `plot_data_winners()` function generates a log-scale plot of Bitcoin prices segmented by administration:\n",
    "     - **Shaded Regions**:\n",
    "       - Blue: Democratic administrations.\n",
    "       - Red: Republican administrations.\n",
    "     - **Vertical Lines**: Mark U.S. presidential election dates.\n",
    "     - **Party Labels**: Displayed near election dates.\n",
    "   - The y-axis uses a logarithmic scale to highlight Bitcoin’s exponential growth patterns.\n",
    "\n",
    "## Insights\n",
    "The visualization underscores key Bitcoin growth phases:\n",
    "- **2016–2020 (Trump's First Term)**: Bitcoin experienced explosive growth, benefiting from market optimism and possibly deregulation expectations under Trump’s administration.\n",
    "- **2020–2024 (Biden Administration)**: While Bitcoin maintained growth, its trajectory was less dramatic compared to Trump’s first term.\n",
    "- **2024–Present (Trump's Second Term)**: With Trump’s return to the presidency, the question arises: **Will Bitcoin see a similar or even stronger growth cycle than in 2016?**\n",
    "\n",
    "The analysis suggests that Republican administrations, particularly under Trump, may coincide with stronger market sentiment for Bitcoin.\n"
   ]
  },
  {
   "cell_type": "code",
   "execution_count": null,
   "metadata": {
    "execution": {
     "iopub.execute_input": "2025-03-01T20:55:16.518122Z",
     "iopub.status.busy": "2025-03-01T20:55:16.517851Z",
     "iopub.status.idle": "2025-03-01T20:55:22.458738Z",
     "shell.execute_reply": "2025-03-01T20:55:22.458409Z"
    }
   },
   "outputs": [],
   "source": [
    "import sys\n",
    "\n",
    "sys.path.append(\"/Users/danieleraimondi/bitcoin_datascience/functions\")\n",
    "from functions_USElections import (\n",
    "    load_bitcoin_data,\n",
    "    preprocess_data,\n",
    "    plot_data_winners,\n",
    ")\n",
    "\n",
    "# Load Bitcoin data\n",
    "btc_data = load_bitcoin_data()\n",
    "\n",
    "# Process data - now capturing both return values\n",
    "df, elections = preprocess_data(btc_data)\n",
    "\n",
    "# Plot data with both dataframes\n",
    "plot_data_winners(df, elections)"
   ]
  }
 ],
 "metadata": {
  "kernelspec": {
   "display_name": "Python 3",
   "language": "python",
   "name": "python3"
  },
  "language_info": {
   "codemirror_mode": {
    "name": "ipython",
    "version": 3
   },
   "file_extension": ".py",
   "mimetype": "text/x-python",
   "name": "python",
   "nbconvert_exporter": "python",
   "pygments_lexer": "ipython3",
   "version": "3.9.16"
  }
 },
 "nbformat": 4,
 "nbformat_minor": 2
}

{
 "cells": [
  {
   "cell_type": "markdown",
   "metadata": {},
   "source": [
    "# Bitcoin Cycle Timing Analysis\n",
    "\n",
    "## Overview\n",
    "This analysis examines Bitcoin's price movements across multiple halving cycles, visualizing historical patterns and projecting potential future trends based on cycle alignment. The visualization normalizes price data from the 2016, 2020, and 2024 halving cycles to enable direct comparison of market behavior across different periods.\n",
    "\n",
    "## Cycle Structure\n",
    "\n",
    "### Halving Events\n",
    "- **2016 Halving**: July 9, 2016\n",
    "- **2020 Halving**: May 11, 2020\n",
    "- **2024 Halving**: April 19, 2024\n",
    "\n",
    "### Historical Pattern Length\n",
    "Bitcoin's market cycles have maintained a remarkably consistent duration of approximately 4 years, primarily driven by the halving schedule built into Bitcoin's protocol. This pattern emerges from:\n",
    "\n",
    "1. The programmatic nature of Bitcoin halvings (occurring every 210,000 blocks)\n",
    "2. Network difficulty adjustments maintaining ~10-minute block times\n",
    "3. The resulting ~4-year intervals between halving events\n",
    "\n",
    "### Market Phase Timing\n",
    "Each cycle can be divided into distinct phases with relatively consistent timing:\n",
    "- **Accumulation Phase**: 3-6 months following halving\n",
    "- **Early Bull Market**: 6-12 months after halving\n",
    "- **Main Bull Run**: 12-14 months after halving\n",
    "- **Peak Formation**: Around 18 months after halving\n",
    "- **Bear Market**: Remaining period until next halving\n",
    "\n",
    "## Key Market Inflection Points\n",
    "\n",
    "### Top Formation Timeline\n",
    "Based on historical patterns:\n",
    "- **2016 Cycle Top**: December 2017 (~18 months after halving)\n",
    "- **2020 Cycle Top**: November 2021 (~18 months after halving)\n",
    "- **2024 Projected Cycle Top**: October-November 2025 (~18 months after halving)\n",
    "\n",
    "### Bottom Formation\n",
    "Previous cycle bottoms occurred:\n",
    "- January 2015\n",
    "- December 2018\n",
    "- November 2022\n",
    "\n",
    "## Visualization Features\n",
    "\n",
    "### Price Normalization\n",
    "The analysis normalizes price movements relative to each halving date, allowing for direct comparison of percentage-based movements across cycles.\n",
    "\n",
    "### Market Phases\n",
    "The visualization includes color-coded background shading to represent different market phases:\n",
    "- Light red: Early bear market phases\n",
    "- Light orange: Late bear/early accumulation phases\n",
    "- Light blue: Bull market development\n",
    "- Light green: Peak formation periods\n",
    "\n",
    "### Sinusoidal Overlay\n",
    "A sinusoidal wave is overlaid on the price data to represent the cyclical nature of Bitcoin price movements, helping to visualize the rhythm of market sentiment across cycles.\n",
    "\n",
    "## 2024-2025 Cycle Projection\n",
    "\n",
    "If historical patterns hold:\n",
    "- The 2024-2025 cycle should follow a similar duration to previous cycles\n",
    "- Given the April 2024 halving date, a cycle top would be expected around October-November 2025\n",
    "- The peak formation would likely occur approximately 18 months after the halving\n",
    "\n",
    "## Important Considerations\n",
    "\n",
    "1. Each successive cycle has shown diminishing returns in percentage terms\n",
    "2. Market structure has evolved with increasing institutional participation\n",
    "3. Macro factors have growing influence on cycle timing\n",
    "4. Regulatory developments may affect cycle dynamics\n",
    "5. Historical patterns serve as guides, not guarantees\n",
    "\n",
    "## Methodology\n",
    "The analysis involves:\n",
    "- Aligning historical price data around halving dates\n",
    "- Normalizing prices relative to halving-day values\n",
    "- Projecting previous cycle movements onto the current timeline\n",
    "- Identifying key inflection points across multiple cycles\n",
    "- Visualizing patterns to inform potential future scenarios"
   ]
  },
  {
   "cell_type": "code",
   "execution_count": null,
   "metadata": {
    "execution": {
     "iopub.execute_input": "2025-04-01T12:36:21.765334Z",
     "iopub.status.busy": "2025-04-01T12:36:21.765135Z",
     "iopub.status.idle": "2025-04-01T12:36:25.222937Z",
     "shell.execute_reply": "2025-04-01T12:36:25.222426Z"
    }
   },
   "outputs": [],
   "source": [
    "import sys\n",
    "sys.path.append(\"/Users/danieleraimondi/bitcoin_datascience/functions\")\n",
    "from functions_CyclesNorm import visualize_plot\n",
    "\n",
    "visualize_plot()"
   ]
  }
 ],
 "metadata": {
  "kernelspec": {
   "display_name": "Python 3",
   "language": "python",
   "name": "python3"
  },
  "language_info": {
   "codemirror_mode": {
    "name": "ipython",
    "version": 3
   },
   "file_extension": ".py",
   "mimetype": "text/x-python",
   "name": "python",
   "nbconvert_exporter": "python",
   "pygments_lexer": "ipython3",
   "version": "3.9.16"
  }
 },
 "nbformat": 4,
 "nbformat_minor": 2
}

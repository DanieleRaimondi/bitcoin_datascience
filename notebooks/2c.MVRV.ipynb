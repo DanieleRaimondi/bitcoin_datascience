{
 "cells": [
  {
   "cell_type": "markdown",
   "metadata": {},
   "source": [
    "# **Bitcoin Price and MVRV Analysis**\n",
    "\n",
    "This notebook provides tools for analyzing Bitcoin's price in relation to its Market Value to Realized Value (MVRV) ratio. The MVRV ratio is a metric used to assess whether the price of Bitcoin is overvalued or undervalued relative to its \"fair value.\"\n",
    "\n",
    "## Data Loading and Preprocessing\n",
    "\n",
    "The data used includes the Bitcoin price in USD and the MVRV ratio over time. The data is then preprocessed to handle missing values and calculate additional metrics such as the standard deviation of MVRV and a normalized MVRV value.\n",
    "\n",
    "## Visualizations\n",
    "\n",
    "### 1. Bitcoin Price vs MVRV Ratio\n",
    "\n",
    "The first visualization plots two key metrics over time:\n",
    "\n",
    "1. Bitcoin price in USD (log scale)\n",
    "2. MVRV ratio (log scale)\n",
    "\n",
    "The MVRV ratio is smoothed using a LOWESS (Locally Weighted Scatterplot Smoothing) technique to reduce noise and highlight trends. The plot includes color-coded regions to indicate potential over- and undervaluation:\n",
    "\n",
    "- Green areas suggest potential undervaluation\n",
    "- Red areas suggest potential overvaluation\n",
    "\n",
    "This visualization helps identify periods where Bitcoin might be considered overvalued or undervalued based on the MVRV ratio.\n",
    "\n",
    "### 2. Bitcoin Price and MVRV Oscillator\n",
    "\n",
    "The second visualization consists of two subplots:\n",
    "\n",
    "1. Bitcoin price in USD over time (log scale)\n",
    "2. MVRV Oscillator\n",
    "\n",
    "The MVRV Oscillator is a derived metric that transforms the MVRV ratio into a range between 0 and 100. This is done by applying LOWESS smoothing to the MVRV values and then using a percentile-based scaling method.\n",
    "\n",
    "Key features of this plot include:\n",
    "\n",
    "- Color-coded regions on the MVRV Oscillator (green for potential undervaluation, red for potential overvaluation)\n",
    "- Horizontal lines at 30 and 70 to mark important thresholds\n",
    "- Ellipses highlighting specific dates of interest, potentially marking important market events or turning points\n",
    "\n",
    "This visualization allows for easy identification of potential market cycles and extreme valuations in Bitcoin's price history.\n",
    "\n",
    "## Interpretation\n",
    "\n",
    "These tools and visualizations can be used to gain insights into Bitcoin's market behavior:\n",
    "\n",
    "1. Identify potential market tops and bottoms\n",
    "2. Recognize periods of over- and undervaluation\n",
    "3. Spot long-term trends in Bitcoin's price in relation to its realized value\n",
    "\n",
    "### *Cyclical Pattern Analysis*\n",
    "\n",
    "A notable repetitive pattern can be observed across Bitcoin's market cycles:\n",
    "\n",
    "1. Market Tops:\n",
    "   - Each cycle's top is preceded by a local peak in the MVRV Oscillator.\n",
    "   - There are typically two total peaks in the oscillator.\n",
    "   - The second peak coincides with the actual top in Bitcoin's price.\n",
    "\n",
    "2. Market Bottoms:\n",
    "   - Similarly, each cycle's bottom shows a characteristic pattern.\n",
    "   - The first minimum identified in the oscillator represents the price cycle's bottom.\n",
    "   - A second minimum, typically occurring around the 30 level on the oscillator, marks the beginning of the next genuine bull run.\n",
    "\n",
    "This recurring pattern provides valuable insights for identifying potential market turning points and cycle phases.\n",
    "\n",
    "However, it's important to note that while the MVRV ratio and its derived metrics can provide valuable insights, they should not be used as the sole indicator for making investment decisions. Always consider multiple factors and conduct thorough research before making any financial decisions."
   ]
  },
  {
   "cell_type": "code",
   "execution_count": null,
   "metadata": {
    "execution": {
     "iopub.execute_input": "2025-04-01T12:36:27.722484Z",
     "iopub.status.busy": "2025-04-01T12:36:27.722312Z",
     "iopub.status.idle": "2025-04-01T12:36:30.743699Z",
     "shell.execute_reply": "2025-04-01T12:36:30.743227Z"
    }
   },
   "outputs": [],
   "source": [
    "import sys\n",
    "sys.path.append(\"/Users/danieleraimondi/bitcoin_datascience/functions\")\n",
    "from functions_MVRV import (\n",
    "    load_dataframe,\n",
    "    plot_btcusd_vs_mvrv,\n",
    "    plot_btcusd_and_mvrv_oscillator,\n",
    ")\n",
    "import warnings\n",
    "warnings.filterwarnings(\"ignore\")\n",
    "\n",
    "merged = load_dataframe()"
   ]
  },
  {
   "cell_type": "code",
   "execution_count": null,
   "metadata": {
    "execution": {
     "iopub.execute_input": "2025-04-01T12:36:30.746289Z",
     "iopub.status.busy": "2025-04-01T12:36:30.746088Z",
     "iopub.status.idle": "2025-04-01T12:36:31.335194Z",
     "shell.execute_reply": "2025-04-01T12:36:31.334727Z"
    }
   },
   "outputs": [],
   "source": [
    "plot_btcusd_vs_mvrv(merged, frac=0.015)"
   ]
  },
  {
   "cell_type": "code",
   "execution_count": null,
   "metadata": {
    "execution": {
     "iopub.execute_input": "2025-04-01T12:36:31.357690Z",
     "iopub.status.busy": "2025-04-01T12:36:31.357312Z",
     "iopub.status.idle": "2025-04-01T12:36:32.699857Z",
     "shell.execute_reply": "2025-04-01T12:36:32.699407Z"
    }
   },
   "outputs": [],
   "source": [
    "plot_btcusd_and_mvrv_oscillator(merged, frac=0.015, k=0.005)"
   ]
  }
 ],
 "metadata": {
  "kernelspec": {
   "display_name": "Python 3",
   "language": "python",
   "name": "python3"
  },
  "language_info": {
   "codemirror_mode": {
    "name": "ipython",
    "version": 3
   },
   "file_extension": ".py",
   "mimetype": "text/x-python",
   "name": "python",
   "nbconvert_exporter": "python",
   "pygments_lexer": "ipython3",
   "version": "3.9.16"
  }
 },
 "nbformat": 4,
 "nbformat_minor": 2
}

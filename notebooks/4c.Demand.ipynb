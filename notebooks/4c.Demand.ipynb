{
 "cells": [
  {
   "cell_type": "markdown",
   "metadata": {},
   "source": [
    "# **Bitcoin's Demand Analysis**\n",
    "\n",
    "## Purpose\n",
    "\n",
    "This project aims to analyze on-chain Bitcoin data to gain a deeper understanding of Bitcoin demand over time. By examining key metrics such as the number of active addresses and the total transaction count alongside Bitcoin's price, we can uncover valuable insights into market dynamics. These two metrics serve as proxies for estimating Bitcoin demand, showcasing a clear growth trend over time. As Bitcoin's adoption increases, these metrics provide a tangible measure of user engagement and transaction activity on the network.\n",
    "\n",
    "## Background and Theory\n",
    "\n",
    "### On-Chain Metrics\n",
    "\n",
    "On-chain metrics are crucial for understanding the health and usage of a blockchain network. They are derived directly from the blockchain data and offer insights into user activity and network performance. For Bitcoin, two critical on-chain metrics are:\n",
    "\n",
    "- **Active Addresses**: This metric counts the number of unique addresses participating in transactions as either sender or receiver. An increasing number of active addresses typically indicates growing user interest and adoption of Bitcoin.\n",
    "\n",
    "- **Transaction Count**: This metric represents the total number of transactions processed by the Bitcoin network. Higher transaction counts can indicate increased network activity and demand for using Bitcoin as a medium of exchange.\n",
    "\n",
    "### LOESS Regression\n",
    "\n",
    "LOESS (Locally Estimated Scatterplot Smoothing) is a non-parametric regression method that fits multiple regressions in localized subsets of the data to create a smooth curve through the data points. It is particularly useful for time series data to highlight trends by reducing noise. The `statsmodels` library in Python provides a straightforward implementation of LOESS.\n",
    "\n",
    "### Logarithmic Scale\n",
    "\n",
    "When analyzing Bitcoin's price over time, it's beneficial to use a logarithmic scale. The log scale is especially useful for data with exponential growth patterns, like Bitcoin's price, because it allows us to see percentage changes more clearly and compare periods of different magnitudes more effectively.\n",
    "\n",
    "## What I Did\n",
    "\n",
    "### 1. Data Loading\n",
    "The first step involved loading historical Bitcoin data from a CSV file. This data includes timestamps, the number of active addresses, transaction counts, and Bitcoin's USD price. The data is loaded into a pandas DataFrame for easy manipulation and analysis.\n",
    "\n",
    "### 2. Data Cleaning and Preparation\n",
    "To ensure the accuracy of the analysis, rows with missing price values were removed. The relevant columns (`time`, `AdrActCnt`, `TxCnt`, `PriceUSD`) were selected and the time column was set as the index for easy time series manipulation.\n",
    "\n",
    "### 3. Applying LOESS Regression\n",
    "LOESS regression was applied to the active addresses and transaction count columns. This smoothing technique helps in visualizing the underlying trends by reducing noise in the time series data. The `add_loess` function was created to perform this smoothing and return a smoothed series.\n",
    "\n",
    "### 4. Generating Graphs\n",
    "A combined graph was generated to display:\n",
    "- **Bitcoin's Price** in logarithmic scale on the left y-axis.\n",
    "- **Number of Active Addresses** on the first right y-axis.\n",
    "- **Total Transaction Count** on the second right y-axis.\n",
    "\n",
    "The smoothed LOESS curves for active addresses and transaction counts were also plotted to highlight the trends over time.\n"
   ]
  },
  {
   "cell_type": "code",
   "execution_count": null,
   "metadata": {
    "execution": {
     "iopub.execute_input": "2025-04-01T12:37:36.400001Z",
     "iopub.status.busy": "2025-04-01T12:37:36.399779Z",
     "iopub.status.idle": "2025-04-01T12:37:41.944711Z",
     "shell.execute_reply": "2025-04-01T12:37:41.944268Z"
    }
   },
   "outputs": [],
   "source": [
    "import warnings\n",
    "warnings.filterwarnings(\"ignore\")\n",
    "import sys\n",
    "\n",
    "sys.path.append(\"/Users/danieleraimondi/bitcoin_datascience/functions\")\n",
    "from functions_demand import load_btc_data, generate_plot"
   ]
  },
  {
   "cell_type": "code",
   "execution_count": null,
   "metadata": {
    "execution": {
     "iopub.execute_input": "2025-04-01T12:37:41.947219Z",
     "iopub.status.busy": "2025-04-01T12:37:41.947018Z",
     "iopub.status.idle": "2025-04-01T12:37:44.489337Z",
     "shell.execute_reply": "2025-04-01T12:37:44.488935Z"
    }
   },
   "outputs": [],
   "source": [
    "generate_plot(load_btc_data())"
   ]
  },
  {
   "cell_type": "markdown",
   "metadata": {},
   "source": [
    "The significant decline in Bitcoin's active addresses began in mid-April 2024, coinciding with the launch of the Runes protocol on the Bitcoin halving block. This new protocol, which claims to be a more efficient method for introducing fungible tokens on Bitcoin, quickly gained traction and now accounts for 60% of daily transactions. Runes utilize the OP_RETURN field, requiring less blockspace than previous protocols like Inscriptions and BRC-20 tokens. The shift to Runes has led to a reduction in unique active addresses, as it often reuses addresses for multiple transactions. Consequently, while overall transaction counts remain high, the number of unique active addresses has decreased significantly, creating a divergence from historical trends of network activity."
   ]
  }
 ],
 "metadata": {
  "kernelspec": {
   "display_name": "Python 3",
   "language": "python",
   "name": "python3"
  },
  "language_info": {
   "codemirror_mode": {
    "name": "ipython",
    "version": 3
   },
   "file_extension": ".py",
   "mimetype": "text/x-python",
   "name": "python",
   "nbconvert_exporter": "python",
   "pygments_lexer": "ipython3",
   "version": "3.9.16"
  }
 },
 "nbformat": 4,
 "nbformat_minor": 2
}
